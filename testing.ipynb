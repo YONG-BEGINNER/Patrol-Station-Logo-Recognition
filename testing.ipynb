{
 "cells": [
  {
   "cell_type": "code",
   "execution_count": null,
   "metadata": {},
   "outputs": [
    {
     "name": "stdout",
     "output_type": "stream",
     "text": [
      "d:\\Private_Folder\\MACHINE_LEARNING\\Patrol Recognition\\Crop\n",
      "Class Labels:  ['BHPetron', 'Caltex', 'Petron', 'Petronas', 'Shell']\n",
      "Sample Image Shape:  torch.Size([3, 50, 50])\n",
      "Labels in this batch: [0, 3, 3, 2, 2, 3, 3, 2, 2, 0, 1, 0, 2, 4, 0, 2, 3, 3, 1, 2, 2, 3, 0, 0, 3, 3, 0, 2, 2, 2, 1, 3]\n",
      "Class Names: ['BHPetron', 'Petronas', 'Petronas', 'Petron', 'Petron', 'Petronas', 'Petronas', 'Petron', 'Petron', 'BHPetron', 'Caltex', 'BHPetron', 'Petron', 'Shell', 'BHPetron', 'Petron', 'Petronas', 'Petronas', 'Caltex', 'Petron', 'Petron', 'Petronas', 'BHPetron', 'BHPetron', 'Petronas', 'Petronas', 'BHPetron', 'Petron', 'Petron', 'Petron', 'Caltex', 'Petronas']\n"
     ]
    }
   ],
   "source": [
    "import os\n",
    "import cv2\n",
    "import sys\n",
    "sys.path.append(\"./pytorch\")\n",
    "import math\n",
    "import numpy as np\n",
    "from preprocessing_pytorch_method import load_data\n",
    "from preprocessing_ml_method import train_test_split_func\n",
    "from torchvision import transforms, datasets\n",
    "\n",
    "data_path = \"./Crop\"\n",
    "print(os.path.abspath(data_path))\n",
    "\n",
    "transform = transforms.Compose([\n",
    "    transforms.Resize((50,50)),\n",
    "    transforms.ToTensor(),\n",
    "    transforms.Normalize(mean = [0.5, 0.5, 0.5], std=[0.5, 0.5, 0.5])\n",
    "])\n",
    "\n",
    "dataset ,data_loader = load_data(data_path, transform)\n",
    "x_train, x_test, y_train, y_test = train_test_split_func(x, y, 0.2, 42)\n",
    "\n"
   ]
  },
  {
   "cell_type": "code",
   "execution_count": null,
   "metadata": {},
   "outputs": [],
   "source": [
    "import matplotlib.pyplot as plt\n",
    "import numpy as np\n",
    "\n",
    "for i in range(5):\n",
    "    x_train, y_train = "
   ]
  }
 ],
 "metadata": {
  "kernelspec": {
   "display_name": "mlspace",
   "language": "python",
   "name": "python3"
  },
  "language_info": {
   "codemirror_mode": {
    "name": "ipython",
    "version": 3
   },
   "file_extension": ".py",
   "mimetype": "text/x-python",
   "name": "python",
   "nbconvert_exporter": "python",
   "pygments_lexer": "ipython3",
   "version": "3.13.2"
  }
 },
 "nbformat": 4,
 "nbformat_minor": 2
}
